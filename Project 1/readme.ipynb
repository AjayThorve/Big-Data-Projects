{
 "cells": [
  {
   "cell_type": "markdown",
   "metadata": {},
   "source": [
    "# Project in R and MongoDB\n",
    "### Name: Ajay Anil Thorve\n",
    "### Net ID: aat414\n",
    "### N number: N13008057\n",
    "### Course: Big Data Analytics"
   ]
  },
  {
   "cell_type": "markdown",
   "metadata": {},
   "source": [
    "## Project Description\n",
    "\n",
    "During the Demonetization phase in India November 2016- April 2017, I subscribe tweets from various days and analyze the top most topics trending during that time. I also compute sentiment analysis of overall tweets each day for 8 different days during this time period and observe if there was any shift in emotions towards the decision"
   ]
  },
  {
   "cell_type": "markdown",
   "metadata": {},
   "source": [
    "## Technology Used\n",
    "\n",
    "1. R langauge for scripting.\n",
    "2. Mongodb for the backend.\n",
    "3. R's Mongolite package for connection of R to mongo\n",
    "4. SQL on ibm cloud\n",
    "5. RMySQL package\n"
   ]
  },
  {
   "cell_type": "markdown",
   "metadata": {},
   "source": [
    "## Using the Data"
   ]
  },
  {
   "cell_type": "markdown",
   "metadata": {
    "collapsed": false
   },
   "source": [
    "#### 1) Importing the required libraries"
   ]
  },
  {
   "cell_type": "code",
   "execution_count": 15,
   "metadata": {
    "collapsed": false
   },
   "outputs": [],
   "source": [
    "library(ggplot2);\n",
    "library(dplyr);\n",
    "library(maps);\n",
    "library(ggmap);\n",
    "library(mongolite);\n",
    "library(lubridate);\n",
    "library(gridExtra);\n",
    "library(\"data.table\");"
   ]
  },
  {
   "cell_type": "markdown",
   "metadata": {},
   "source": [
    "### The dataset:\n",
    "\n",
    "#### I decided to work on the tweets related to demonetization. Since the topic was trending on twitter for a lot of time when prime minister of India, Narendra Modi, announced the decision in November 2016, I decided to pull tweets during that period and do some week wise analysis on the reaction to this decision.\n",
    "\n",
    "<i>Since twitter does not allow to pull tweets which are more than 2 weeks old anymore(its a paid fearture). I tried researching on the internet if there are any tweets scrapped already. I found a dataset which consisted of some of the tweets during the November 2016 period, on this link: https://www.kaggle.com/arathee2/demonetization-in-india-twitter-data/downloads/demonetization-tweets.csv</i>"
   ]
  },
  {
   "cell_type": "code",
   "execution_count": 16,
   "metadata": {
    "collapsed": true
   },
   "outputs": [],
   "source": [
    "#Working with twitter data, importing the csv file to a dataframe in r\n",
    "tweet_data <- data.table::fread(\"demonetization-tweets 2.csv\")"
   ]
  },
  {
   "cell_type": "code",
   "execution_count": 17,
   "metadata": {
    "collapsed": false
   },
   "outputs": [
    {
     "data": {
      "text/html": [
       "<ol class=list-inline>\n",
       "\t<li>'V1'</li>\n",
       "\t<li>'X'</li>\n",
       "\t<li>'text'</li>\n",
       "\t<li>'favorited'</li>\n",
       "\t<li>'favoriteCount'</li>\n",
       "\t<li>'replyToSN'</li>\n",
       "\t<li>'created'</li>\n",
       "\t<li>'truncated'</li>\n",
       "\t<li>'replyToSID'</li>\n",
       "\t<li>'id'</li>\n",
       "\t<li>'replyToUID'</li>\n",
       "\t<li>'statusSource'</li>\n",
       "\t<li>'screenName'</li>\n",
       "\t<li>'retweetCount'</li>\n",
       "\t<li>'isRetweet'</li>\n",
       "\t<li>'retweeted'</li>\n",
       "</ol>\n"
      ],
      "text/latex": [
       "\\begin{enumerate*}\n",
       "\\item 'V1'\n",
       "\\item 'X'\n",
       "\\item 'text'\n",
       "\\item 'favorited'\n",
       "\\item 'favoriteCount'\n",
       "\\item 'replyToSN'\n",
       "\\item 'created'\n",
       "\\item 'truncated'\n",
       "\\item 'replyToSID'\n",
       "\\item 'id'\n",
       "\\item 'replyToUID'\n",
       "\\item 'statusSource'\n",
       "\\item 'screenName'\n",
       "\\item 'retweetCount'\n",
       "\\item 'isRetweet'\n",
       "\\item 'retweeted'\n",
       "\\end{enumerate*}\n"
      ],
      "text/markdown": [
       "1. 'V1'\n",
       "2. 'X'\n",
       "3. 'text'\n",
       "4. 'favorited'\n",
       "5. 'favoriteCount'\n",
       "6. 'replyToSN'\n",
       "7. 'created'\n",
       "8. 'truncated'\n",
       "9. 'replyToSID'\n",
       "10. 'id'\n",
       "11. 'replyToUID'\n",
       "12. 'statusSource'\n",
       "13. 'screenName'\n",
       "14. 'retweetCount'\n",
       "15. 'isRetweet'\n",
       "16. 'retweeted'\n",
       "\n",
       "\n"
      ],
      "text/plain": [
       " [1] \"V1\"            \"X\"             \"text\"          \"favorited\"    \n",
       " [5] \"favoriteCount\" \"replyToSN\"     \"created\"       \"truncated\"    \n",
       " [9] \"replyToSID\"    \"id\"            \"replyToUID\"    \"statusSource\" \n",
       "[13] \"screenName\"    \"retweetCount\"  \"isRetweet\"     \"retweeted\"    "
      ]
     },
     "metadata": {},
     "output_type": "display_data"
    }
   ],
   "source": [
    "#see what fields this dataframe has\n",
    "colnames(tweet_data)"
   ]
  },
  {
   "cell_type": "code",
   "execution_count": 18,
   "metadata": {
    "collapsed": false
   },
   "outputs": [
    {
     "data": {
      "text/html": [
       "<table>\n",
       "<thead><tr><th scope=col>V1</th><th scope=col>X</th><th scope=col>text</th><th scope=col>favorited</th><th scope=col>favoriteCount</th><th scope=col>replyToSN</th><th scope=col>created</th><th scope=col>truncated</th><th scope=col>replyToSID</th><th scope=col>id</th><th scope=col>replyToUID</th><th scope=col>statusSource</th><th scope=col>screenName</th><th scope=col>retweetCount</th><th scope=col>isRetweet</th><th scope=col>retweeted</th></tr></thead>\n",
       "<tbody>\n",
       "\t<tr><td>1                                                                                                                                                                                             </td><td>1                                                                                                                                                                                             </td><td><span style=white-space:pre-wrap>RT @rssurjewala: Critical question: Was PayTM informed about #Demonetization edict by PM? It's clearly fishy and requires full disclosure &amp;amp;…  </span></td><td>FALSE                                                                                                                                                                                         </td><td>0                                                                                                                                                                                             </td><td>NA                                                                                                                                                                                            </td><td>11/23/16 18:40                                                                                                                                                                                </td><td>FALSE                                                                                                                                                                                         </td><td>NA                                                                                                                                                                                            </td><td>8.01496e+17                                                                                                                                                                                   </td><td>NA                                                                                                                                                                                            </td><td>&lt;a href=\"\"http://twitter.com/download/android\"\" rel=\"\"nofollow\"\"&gt;Twitter for Android&lt;/a&gt;                                                                                          </td><td>HASHTAGFARZIWAL                                                                                                                                                                               </td><td>331                                                                                                                                                                                           </td><td>TRUE                                                                                                                                                                                          </td><td>FALSE                                                                                                                                                                                         </td></tr>\n",
       "\t<tr><td>2                                                                                                                                                                                         </td><td>2                                                                                                                                                                                         </td><td><span style=white-space:pre-wrap>RT @Hemant_80: Did you vote on #Demonetization on Modi survey app?                                                                                </span></td><td>FALSE                                                                                                                                                                                     </td><td>0                                                                                                                                                                                         </td><td>NA                                                                                                                                                                                        </td><td>11/23/16 18:40                                                                                                                                                                            </td><td>FALSE                                                                                                                                                                                     </td><td>NA                                                                                                                                                                                        </td><td>8.01496e+17                                                                                                                                                                               </td><td>NA                                                                                                                                                                                        </td><td>&lt;a href=\"\"http://twitter.com/download/android\"\" rel=\"\"nofollow\"\"&gt;Twitter for Android&lt;/a&gt;                                                                                      </td><td>PRAMODKAUSHIK9                                                                                                                                                                            </td><td> 66                                                                                                                                                                                       </td><td>TRUE                                                                                                                                                                                      </td><td>FALSE                                                                                                                                                                                     </td></tr>\n",
       "\t<tr><td>3                                                                                                                                                 </td><td>3                                                                                                                                                 </td><td>RT @roshankar: Former FinSec, RBI Dy Governor, CBDT Chair + Harvard Professor lambaste #Demonetization.\r",
       "\r",
       "\r",
       "\r",
       "If not for Aam Aadmi, listen to th…</td><td>FALSE                                                                                                                                             </td><td>0                                                                                                                                                 </td><td>NA                                                                                                                                                </td><td>11/23/16 18:40                                                                                                                                    </td><td>FALSE                                                                                                                                             </td><td>NA                                                                                                                                                </td><td>8.01496e+17                                                                                                                                       </td><td>NA                                                                                                                                                </td><td>&lt;a href=\"\"http://twitter.com/download/android\"\" rel=\"\"nofollow\"\"&gt;Twitter for Android&lt;/a&gt;                                              </td><td>rahulja13034944                                                                                                                                   </td><td> 12                                                                                                                                               </td><td>TRUE                                                                                                                                              </td><td>FALSE                                                                                                                                             </td></tr>\n",
       "</tbody>\n",
       "</table>\n"
      ],
      "text/latex": [
       "\\begin{tabular}{r|llllllllllllllll}\n",
       " V1 & X & text & favorited & favoriteCount & replyToSN & created & truncated & replyToSID & id & replyToUID & statusSource & screenName & retweetCount & isRetweet & retweeted\\\\\n",
       "\\hline\n",
       "\t 1                                                                                                                                                      & 1                                                                                                                                                      & RT @rssurjewala: Critical question: Was PayTM informed about \\#Demonetization edict by PM? It's clearly fishy and requires full disclosure \\&amp;…   & FALSE                                                                                                                                                  & 0                                                                                                                                                      & NA                                                                                                                                                     & 11/23/16 18:40                                                                                                                                         & FALSE                                                                                                                                                  & NA                                                                                                                                                     & 8.01496e+17                                                                                                                                            & NA                                                                                                                                                     & <a href=\"\"http://twitter.com/download/android\"\" rel=\"\"nofollow\"\">Twitter for Android</a>                                                               & HASHTAGFARZIWAL                                                                                                                                        & 331                                                                                                                                                    & TRUE                                                                                                                                                   & FALSE                                                                                                                                                 \\\\\n",
       "\t 2                                                                                                                                                      & 2                                                                                                                                                      & RT @Hemant\\_80: Did you vote on \\#Demonetization on Modi survey app?                                                                                 & FALSE                                                                                                                                                  & 0                                                                                                                                                      & NA                                                                                                                                                     & 11/23/16 18:40                                                                                                                                         & FALSE                                                                                                                                                  & NA                                                                                                                                                     & 8.01496e+17                                                                                                                                            & NA                                                                                                                                                     & <a href=\"\"http://twitter.com/download/android\"\" rel=\"\"nofollow\"\">Twitter for Android</a>                                                               & PRAMODKAUSHIK9                                                                                                                                         &  66                                                                                                                                                    & TRUE                                                                                                                                                   & FALSE                                                                                                                                                 \\\\\n",
       "\t 3                                                                                                                                                    & 3                                                                                                                                                    & RT @roshankar: Former FinSec, RBI Dy Governor, CBDT Chair + Harvard Professor lambaste \\#Demonetization.\r",
       "\r",
       "\r",
       "\r",
       "If not for Aam Aadmi, listen to th… & FALSE                                                                                                                                                & 0                                                                                                                                                    & NA                                                                                                                                                   & 11/23/16 18:40                                                                                                                                       & FALSE                                                                                                                                                & NA                                                                                                                                                   & 8.01496e+17                                                                                                                                          & NA                                                                                                                                                   & <a href=\"\"http://twitter.com/download/android\"\" rel=\"\"nofollow\"\">Twitter for Android</a>                                                             & rahulja13034944                                                                                                                                      &  12                                                                                                                                                  & TRUE                                                                                                                                                 & FALSE                                                                                                                                               \\\\\n",
       "\\end{tabular}\n"
      ],
      "text/markdown": [
       "\n",
       "V1 | X | text | favorited | favoriteCount | replyToSN | created | truncated | replyToSID | id | replyToUID | statusSource | screenName | retweetCount | isRetweet | retweeted | \n",
       "|---|---|---|\n",
       "| 1                                                                                                                                                  | 1                                                                                                                                                  | RT @rssurjewala: Critical question: Was PayTM informed about #Demonetization edict by PM? It's clearly fishy and requires full disclosure &amp;…   | FALSE                                                                                                                                              | 0                                                                                                                                                  | NA                                                                                                                                                 | 11/23/16 18:40                                                                                                                                     | FALSE                                                                                                                                              | NA                                                                                                                                                 | 8.01496e+17                                                                                                                                        | NA                                                                                                                                                 | <a href=\"\"http://twitter.com/download/android\"\" rel=\"\"nofollow\"\">Twitter for Android</a>                                                           | HASHTAGFARZIWAL                                                                                                                                    | 331                                                                                                                                                | TRUE                                                                                                                                               | FALSE                                                                                                                                              | \n",
       "| 2                                                                                                                                                  | 2                                                                                                                                                  | RT @Hemant_80: Did you vote on #Demonetization on Modi survey app?                                                                                 | FALSE                                                                                                                                              | 0                                                                                                                                                  | NA                                                                                                                                                 | 11/23/16 18:40                                                                                                                                     | FALSE                                                                                                                                              | NA                                                                                                                                                 | 8.01496e+17                                                                                                                                        | NA                                                                                                                                                 | <a href=\"\"http://twitter.com/download/android\"\" rel=\"\"nofollow\"\">Twitter for Android</a>                                                           | PRAMODKAUSHIK9                                                                                                                                     |  66                                                                                                                                                | TRUE                                                                                                                                               | FALSE                                                                                                                                              | \n",
       "| 3                                                                                                                                                  | 3                                                                                                                                                  | RT @roshankar: Former FinSec, RBI Dy Governor, CBDT Chair + Harvard Professor lambaste #Demonetization.\r",
       "\r",
       "\r",
       "\r",
       "If not for Aam Aadmi, listen to th… | FALSE                                                                                                                                              | 0                                                                                                                                                  | NA                                                                                                                                                 | 11/23/16 18:40                                                                                                                                     | FALSE                                                                                                                                              | NA                                                                                                                                                 | 8.01496e+17                                                                                                                                        | NA                                                                                                                                                 | <a href=\"\"http://twitter.com/download/android\"\" rel=\"\"nofollow\"\">Twitter for Android</a>                                                           | rahulja13034944                                                                                                                                    |  12                                                                                                                                                | TRUE                                                                                                                                               | FALSE                                                                                                                                              | \n",
       "\n",
       "\n"
      ],
      "text/plain": [
       "  V1 X\n",
       "1 1  1\n",
       "2 2  2\n",
       "3 3  3\n",
       "  text                                                                                                                                              \n",
       "1 RT @rssurjewala: Critical question: Was PayTM informed about #Demonetization edict by PM? It's clearly fishy and requires full disclosure &amp;…  \n",
       "2 RT @Hemant_80: Did you vote on #Demonetization on Modi survey app?                                                                                \n",
       "3 RT @roshankar: Former FinSec, RBI Dy Governor, CBDT Chair + Harvard Professor lambaste #Demonetization.\\r\\r\\r\\rIf not for Aam Aadmi, listen to th…\n",
       "  favorited favoriteCount replyToSN created        truncated replyToSID\n",
       "1 FALSE     0             NA        11/23/16 18:40 FALSE     NA        \n",
       "2 FALSE     0             NA        11/23/16 18:40 FALSE     NA        \n",
       "3 FALSE     0             NA        11/23/16 18:40 FALSE     NA        \n",
       "  id          replyToUID\n",
       "1 8.01496e+17 NA        \n",
       "2 8.01496e+17 NA        \n",
       "3 8.01496e+17 NA        \n",
       "  statusSource                                                                            \n",
       "1 <a href=\"\"http://twitter.com/download/android\"\" rel=\"\"nofollow\"\">Twitter for Android</a>\n",
       "2 <a href=\"\"http://twitter.com/download/android\"\" rel=\"\"nofollow\"\">Twitter for Android</a>\n",
       "3 <a href=\"\"http://twitter.com/download/android\"\" rel=\"\"nofollow\"\">Twitter for Android</a>\n",
       "  screenName      retweetCount isRetweet retweeted\n",
       "1 HASHTAGFARZIWAL 331          TRUE      FALSE    \n",
       "2 PRAMODKAUSHIK9   66          TRUE      FALSE    \n",
       "3 rahulja13034944  12          TRUE      FALSE    "
      ]
     },
     "metadata": {},
     "output_type": "display_data"
    }
   ],
   "source": [
    "head(tweet_data,3)"
   ]
  },
  {
   "cell_type": "code",
   "execution_count": 19,
   "metadata": {
    "collapsed": false
   },
   "outputs": [
    {
     "data": {
      "text/html": [
       "<table>\n",
       "<thead><tr><th scope=col>V1</th><th scope=col>X</th><th scope=col>text</th><th scope=col>favorited</th><th scope=col>favoriteCount</th><th scope=col>replyToSN</th><th scope=col>created</th><th scope=col>truncated</th><th scope=col>replyToSID</th><th scope=col>id</th><th scope=col>replyToUID</th><th scope=col>statusSource</th><th scope=col>screenName</th><th scope=col>retweetCount</th><th scope=col>isRetweet</th><th scope=col>retweeted</th></tr></thead>\n",
       "<tbody>\n",
       "\t<tr><td>1                                                                                                                                                                                             </td><td>1                                                                                                                                                                                             </td><td><span style=white-space:pre-wrap>RT @rssurjewala: Critical question: Was PayTM informed about #Demonetization edict by PM? It's clearly fishy and requires full disclosure &amp;amp;…  </span></td><td>FALSE                                                                                                                                                                                         </td><td>0                                                                                                                                                                                             </td><td>NA                                                                                                                                                                                            </td><td>2016-11-23                                                                                                                                                                                    </td><td>FALSE                                                                                                                                                                                         </td><td>NA                                                                                                                                                                                            </td><td>8.01496e+17                                                                                                                                                                                   </td><td>NA                                                                                                                                                                                            </td><td>&lt;a href=\"\"http://twitter.com/download/android\"\" rel=\"\"nofollow\"\"&gt;Twitter for Android&lt;/a&gt;                                                                                          </td><td>HASHTAGFARZIWAL                                                                                                                                                                               </td><td>331                                                                                                                                                                                           </td><td>TRUE                                                                                                                                                                                          </td><td>FALSE                                                                                                                                                                                         </td></tr>\n",
       "\t<tr><td>2                                                                                                                                                                                         </td><td>2                                                                                                                                                                                         </td><td><span style=white-space:pre-wrap>RT @Hemant_80: Did you vote on #Demonetization on Modi survey app?                                                                                </span></td><td>FALSE                                                                                                                                                                                     </td><td>0                                                                                                                                                                                         </td><td>NA                                                                                                                                                                                        </td><td>2016-11-23                                                                                                                                                                                </td><td>FALSE                                                                                                                                                                                     </td><td>NA                                                                                                                                                                                        </td><td>8.01496e+17                                                                                                                                                                               </td><td>NA                                                                                                                                                                                        </td><td>&lt;a href=\"\"http://twitter.com/download/android\"\" rel=\"\"nofollow\"\"&gt;Twitter for Android&lt;/a&gt;                                                                                      </td><td>PRAMODKAUSHIK9                                                                                                                                                                            </td><td> 66                                                                                                                                                                                       </td><td>TRUE                                                                                                                                                                                      </td><td>FALSE                                                                                                                                                                                     </td></tr>\n",
       "\t<tr><td>3                                                                                                                                                 </td><td>3                                                                                                                                                 </td><td>RT @roshankar: Former FinSec, RBI Dy Governor, CBDT Chair + Harvard Professor lambaste #Demonetization.\r",
       "\r",
       "\r",
       "\r",
       "If not for Aam Aadmi, listen to th…</td><td>FALSE                                                                                                                                             </td><td>0                                                                                                                                                 </td><td>NA                                                                                                                                                </td><td>2016-11-23                                                                                                                                        </td><td>FALSE                                                                                                                                             </td><td>NA                                                                                                                                                </td><td>8.01496e+17                                                                                                                                       </td><td>NA                                                                                                                                                </td><td>&lt;a href=\"\"http://twitter.com/download/android\"\" rel=\"\"nofollow\"\"&gt;Twitter for Android&lt;/a&gt;                                              </td><td>rahulja13034944                                                                                                                                   </td><td> 12                                                                                                                                               </td><td>TRUE                                                                                                                                              </td><td>FALSE                                                                                                                                             </td></tr>\n",
       "</tbody>\n",
       "</table>\n"
      ],
      "text/latex": [
       "\\begin{tabular}{r|llllllllllllllll}\n",
       " V1 & X & text & favorited & favoriteCount & replyToSN & created & truncated & replyToSID & id & replyToUID & statusSource & screenName & retweetCount & isRetweet & retweeted\\\\\n",
       "\\hline\n",
       "\t 1                                                                                                                                                      & 1                                                                                                                                                      & RT @rssurjewala: Critical question: Was PayTM informed about \\#Demonetization edict by PM? It's clearly fishy and requires full disclosure \\&amp;…   & FALSE                                                                                                                                                  & 0                                                                                                                                                      & NA                                                                                                                                                     & 2016-11-23                                                                                                                                             & FALSE                                                                                                                                                  & NA                                                                                                                                                     & 8.01496e+17                                                                                                                                            & NA                                                                                                                                                     & <a href=\"\"http://twitter.com/download/android\"\" rel=\"\"nofollow\"\">Twitter for Android</a>                                                               & HASHTAGFARZIWAL                                                                                                                                        & 331                                                                                                                                                    & TRUE                                                                                                                                                   & FALSE                                                                                                                                                 \\\\\n",
       "\t 2                                                                                                                                                      & 2                                                                                                                                                      & RT @Hemant\\_80: Did you vote on \\#Demonetization on Modi survey app?                                                                                 & FALSE                                                                                                                                                  & 0                                                                                                                                                      & NA                                                                                                                                                     & 2016-11-23                                                                                                                                             & FALSE                                                                                                                                                  & NA                                                                                                                                                     & 8.01496e+17                                                                                                                                            & NA                                                                                                                                                     & <a href=\"\"http://twitter.com/download/android\"\" rel=\"\"nofollow\"\">Twitter for Android</a>                                                               & PRAMODKAUSHIK9                                                                                                                                         &  66                                                                                                                                                    & TRUE                                                                                                                                                   & FALSE                                                                                                                                                 \\\\\n",
       "\t 3                                                                                                                                                    & 3                                                                                                                                                    & RT @roshankar: Former FinSec, RBI Dy Governor, CBDT Chair + Harvard Professor lambaste \\#Demonetization.\r",
       "\r",
       "\r",
       "\r",
       "If not for Aam Aadmi, listen to th… & FALSE                                                                                                                                                & 0                                                                                                                                                    & NA                                                                                                                                                   & 2016-11-23                                                                                                                                           & FALSE                                                                                                                                                & NA                                                                                                                                                   & 8.01496e+17                                                                                                                                          & NA                                                                                                                                                   & <a href=\"\"http://twitter.com/download/android\"\" rel=\"\"nofollow\"\">Twitter for Android</a>                                                             & rahulja13034944                                                                                                                                      &  12                                                                                                                                                  & TRUE                                                                                                                                                 & FALSE                                                                                                                                               \\\\\n",
       "\\end{tabular}\n"
      ],
      "text/markdown": [
       "\n",
       "V1 | X | text | favorited | favoriteCount | replyToSN | created | truncated | replyToSID | id | replyToUID | statusSource | screenName | retweetCount | isRetweet | retweeted | \n",
       "|---|---|---|\n",
       "| 1                                                                                                                                                  | 1                                                                                                                                                  | RT @rssurjewala: Critical question: Was PayTM informed about #Demonetization edict by PM? It's clearly fishy and requires full disclosure &amp;…   | FALSE                                                                                                                                              | 0                                                                                                                                                  | NA                                                                                                                                                 | 2016-11-23                                                                                                                                         | FALSE                                                                                                                                              | NA                                                                                                                                                 | 8.01496e+17                                                                                                                                        | NA                                                                                                                                                 | <a href=\"\"http://twitter.com/download/android\"\" rel=\"\"nofollow\"\">Twitter for Android</a>                                                           | HASHTAGFARZIWAL                                                                                                                                    | 331                                                                                                                                                | TRUE                                                                                                                                               | FALSE                                                                                                                                              | \n",
       "| 2                                                                                                                                                  | 2                                                                                                                                                  | RT @Hemant_80: Did you vote on #Demonetization on Modi survey app?                                                                                 | FALSE                                                                                                                                              | 0                                                                                                                                                  | NA                                                                                                                                                 | 2016-11-23                                                                                                                                         | FALSE                                                                                                                                              | NA                                                                                                                                                 | 8.01496e+17                                                                                                                                        | NA                                                                                                                                                 | <a href=\"\"http://twitter.com/download/android\"\" rel=\"\"nofollow\"\">Twitter for Android</a>                                                           | PRAMODKAUSHIK9                                                                                                                                     |  66                                                                                                                                                | TRUE                                                                                                                                               | FALSE                                                                                                                                              | \n",
       "| 3                                                                                                                                                  | 3                                                                                                                                                  | RT @roshankar: Former FinSec, RBI Dy Governor, CBDT Chair + Harvard Professor lambaste #Demonetization.\r",
       "\r",
       "\r",
       "\r",
       "If not for Aam Aadmi, listen to th… | FALSE                                                                                                                                              | 0                                                                                                                                                  | NA                                                                                                                                                 | 2016-11-23                                                                                                                                         | FALSE                                                                                                                                              | NA                                                                                                                                                 | 8.01496e+17                                                                                                                                        | NA                                                                                                                                                 | <a href=\"\"http://twitter.com/download/android\"\" rel=\"\"nofollow\"\">Twitter for Android</a>                                                           | rahulja13034944                                                                                                                                    |  12                                                                                                                                                | TRUE                                                                                                                                               | FALSE                                                                                                                                              | \n",
       "\n",
       "\n"
      ],
      "text/plain": [
       "  V1 X\n",
       "1 1  1\n",
       "2 2  2\n",
       "3 3  3\n",
       "  text                                                                                                                                              \n",
       "1 RT @rssurjewala: Critical question: Was PayTM informed about #Demonetization edict by PM? It's clearly fishy and requires full disclosure &amp;…  \n",
       "2 RT @Hemant_80: Did you vote on #Demonetization on Modi survey app?                                                                                \n",
       "3 RT @roshankar: Former FinSec, RBI Dy Governor, CBDT Chair + Harvard Professor lambaste #Demonetization.\\r\\r\\r\\rIf not for Aam Aadmi, listen to th…\n",
       "  favorited favoriteCount replyToSN created    truncated replyToSID id         \n",
       "1 FALSE     0             NA        2016-11-23 FALSE     NA         8.01496e+17\n",
       "2 FALSE     0             NA        2016-11-23 FALSE     NA         8.01496e+17\n",
       "3 FALSE     0             NA        2016-11-23 FALSE     NA         8.01496e+17\n",
       "  replyToUID\n",
       "1 NA        \n",
       "2 NA        \n",
       "3 NA        \n",
       "  statusSource                                                                            \n",
       "1 <a href=\"\"http://twitter.com/download/android\"\" rel=\"\"nofollow\"\">Twitter for Android</a>\n",
       "2 <a href=\"\"http://twitter.com/download/android\"\" rel=\"\"nofollow\"\">Twitter for Android</a>\n",
       "3 <a href=\"\"http://twitter.com/download/android\"\" rel=\"\"nofollow\"\">Twitter for Android</a>\n",
       "  screenName      retweetCount isRetweet retweeted\n",
       "1 HASHTAGFARZIWAL 331          TRUE      FALSE    \n",
       "2 PRAMODKAUSHIK9   66          TRUE      FALSE    \n",
       "3 rahulja13034944  12          TRUE      FALSE    "
      ]
     },
     "metadata": {},
     "output_type": "display_data"
    }
   ],
   "source": [
    "#Since I am only working with dates, I strip the time factor from the \"created\" field, \n",
    "#and convert the datatype of the field to data format.\n",
    "tweet_data$created <- as.Date(tweet_data$created, \"%m/%d/%y\")\n",
    "head(tweet_data,3)"
   ]
  },
  {
   "cell_type": "markdown",
   "metadata": {},
   "source": [
    "## Making a connection with mongodb database"
   ]
  },
  {
   "cell_type": "markdown",
   "metadata": {},
   "source": [
    "<i>I am using the R package \"mongolite\"</i>"
   ]
  },
  {
   "cell_type": "code",
   "execution_count": 20,
   "metadata": {
    "collapsed": false
   },
   "outputs": [],
   "source": [
    "#estabish connection,create db and a collection named tweets inside\n",
    "tweet_collection = mongo(collection = \"tweets\", db = \"Twit_Sentiment_Analysis\")"
   ]
  },
  {
   "cell_type": "code",
   "execution_count": 21,
   "metadata": {
    "collapsed": false
   },
   "outputs": [
    {
     "data": {
      "text/plain": [
       "List of 5\n",
       " $ nInserted  : num 14940\n",
       " $ nMatched   : num 0\n",
       " $ nRemoved   : num 0\n",
       " $ nUpserted  : num 0\n",
       " $ writeErrors: list()"
      ]
     },
     "metadata": {},
     "output_type": "display_data"
    }
   ],
   "source": [
    "#just making sure the tweet_collection instance of tweets collection is empty before inserting\n",
    "tweet_collection$remove('{}')\n",
    "#insert tweet_data inside the collection\n",
    "tweet_collection$insert(tweet_data)"
   ]
  },
  {
   "cell_type": "markdown",
   "metadata": {},
   "source": [
    "## Making a connection with SQL database on ibm cloud"
   ]
  },
  {
   "cell_type": "markdown",
   "metadata": {},
   "source": [
    "<b>conn <- dbConnect(dbDriver('MySQL'),host='localhost',user='aat414',password='aat414123',dbname='aat414')</b>"
   ]
  },
  {
   "cell_type": "markdown",
   "metadata": {},
   "source": [
    "<i>#create a table demontization</i> <br>\n",
    "<b>loadDataQuery <- \"LOAD DATA LOCAL INFILE \n",
    "'/home/2017/fall/nyu/cs9223/aat414/R- midterm/1.csv' \n",
    "INTO TABLE tweet_collection FIELDS TERMINATED BY ',' ENCLOSED BY '\\\"' LINES TERMINATED BY '\\\\n' IGNORE 1 ROWS”</b>\n"
   ]
  },
  {
   "cell_type": "markdown",
   "metadata": {},
   "source": [
    "### Performing a query and retrieving data"
   ]
  },
  {
   "cell_type": "code",
   "execution_count": 22,
   "metadata": {
    "collapsed": false
   },
   "outputs": [
    {
     "data": {
      "text/html": [
       "<dl>\n",
       "\t<dt>$V1</dt>\n",
       "\t\t<dd>1</dd>\n",
       "\t<dt>$X</dt>\n",
       "\t\t<dd>1</dd>\n",
       "\t<dt>$text</dt>\n",
       "\t\t<dd>'RT @rssurjewala: Critical question: Was PayTM informed about #Demonetization edict by PM? It\\'s clearly fishy and requires full disclosure &amp;amp;…'</dd>\n",
       "\t<dt>$favorited</dt>\n",
       "\t\t<dd>FALSE</dd>\n",
       "\t<dt>$favoriteCount</dt>\n",
       "\t\t<dd>0</dd>\n",
       "\t<dt>$created</dt>\n",
       "\t\t<dd>'2016-11-23'</dd>\n",
       "\t<dt>$truncated</dt>\n",
       "\t\t<dd>FALSE</dd>\n",
       "\t<dt>$id</dt>\n",
       "\t\t<dd>8.01496e+17</dd>\n",
       "\t<dt>$statusSource</dt>\n",
       "\t\t<dd>'&lt;a href=\"\"http://twitter.com/download/android\"\" rel=\"\"nofollow\"\"&gt;Twitter for Android&lt;/a&gt;'</dd>\n",
       "\t<dt>$screenName</dt>\n",
       "\t\t<dd>'HASHTAGFARZIWAL'</dd>\n",
       "\t<dt>$retweetCount</dt>\n",
       "\t\t<dd>331</dd>\n",
       "\t<dt>$isRetweet</dt>\n",
       "\t\t<dd>TRUE</dd>\n",
       "\t<dt>$retweeted</dt>\n",
       "\t\t<dd>FALSE</dd>\n",
       "</dl>\n"
      ],
      "text/latex": [
       "\\begin{description}\n",
       "\\item[\\$V1] 1\n",
       "\\item[\\$X] 1\n",
       "\\item[\\$text] 'RT @rssurjewala: Critical question: Was PayTM informed about \\#Demonetization edict by PM? It\\textbackslash{}'s clearly fishy and requires full disclosure \\&amp;…'\n",
       "\\item[\\$favorited] FALSE\n",
       "\\item[\\$favoriteCount] 0\n",
       "\\item[\\$created] '2016-11-23'\n",
       "\\item[\\$truncated] FALSE\n",
       "\\item[\\$id] 8.01496e+17\n",
       "\\item[\\$statusSource] '<a href=\"\"http://twitter.com/download/android\"\" rel=\"\"nofollow\"\">Twitter for Android</a>'\n",
       "\\item[\\$screenName] 'HASHTAGFARZIWAL'\n",
       "\\item[\\$retweetCount] 331\n",
       "\\item[\\$isRetweet] TRUE\n",
       "\\item[\\$retweeted] FALSE\n",
       "\\end{description}\n"
      ],
      "text/markdown": [
       "$V1\n",
       ":   1\n",
       "$X\n",
       ":   1\n",
       "$text\n",
       ":   'RT @rssurjewala: Critical question: Was PayTM informed about #Demonetization edict by PM? It\\'s clearly fishy and requires full disclosure &amp;amp;…'\n",
       "$favorited\n",
       ":   FALSE\n",
       "$favoriteCount\n",
       ":   0\n",
       "$created\n",
       ":   '2016-11-23'\n",
       "$truncated\n",
       ":   FALSE\n",
       "$id\n",
       ":   8.01496e+17\n",
       "$statusSource\n",
       ":   '&lt;a href=\"\"http://twitter.com/download/android\"\" rel=\"\"nofollow\"\"&gt;Twitter for Android&lt;/a&gt;'\n",
       "$screenName\n",
       ":   'HASHTAGFARZIWAL'\n",
       "$retweetCount\n",
       ":   331\n",
       "$isRetweet\n",
       ":   TRUE\n",
       "$retweeted\n",
       ":   FALSE\n",
       "\n",
       "\n"
      ],
      "text/plain": [
       "$V1\n",
       "[1] 1\n",
       "\n",
       "$X\n",
       "[1] 1\n",
       "\n",
       "$text\n",
       "[1] \"RT @rssurjewala: Critical question: Was PayTM informed about #Demonetization edict by PM? It's clearly fishy and requires full disclosure &amp;…\"\n",
       "\n",
       "$favorited\n",
       "[1] FALSE\n",
       "\n",
       "$favoriteCount\n",
       "[1] 0\n",
       "\n",
       "$created\n",
       "[1] \"2016-11-23\"\n",
       "\n",
       "$truncated\n",
       "[1] FALSE\n",
       "\n",
       "$id\n",
       "[1] 8.01496e+17\n",
       "\n",
       "$statusSource\n",
       "[1] \"<a href=\\\"\\\"http://twitter.com/download/android\\\"\\\" rel=\\\"\\\"nofollow\\\"\\\">Twitter for Android</a>\"\n",
       "\n",
       "$screenName\n",
       "[1] \"HASHTAGFARZIWAL\"\n",
       "\n",
       "$retweetCount\n",
       "[1] 331\n",
       "\n",
       "$isRetweet\n",
       "[1] TRUE\n",
       "\n",
       "$retweeted\n",
       "[1] FALSE\n"
      ]
     },
     "metadata": {},
     "output_type": "display_data"
    }
   ],
   "source": [
    "#equivalent in SQL to select * from tweet_collection where ROWNUM=1\n",
    "tweet_collection$iterate()$one()"
   ]
  },
  {
   "cell_type": "code",
   "execution_count": 23,
   "metadata": {
    "collapsed": false
   },
   "outputs": [
    {
     "data": {
      "text/html": [
       "<table>\n",
       "<thead><tr><th scope=col>text</th><th scope=col>created</th></tr></thead>\n",
       "<tbody>\n",
       "\t<tr><td><span style=white-space:pre-wrap>RT @rssurjewala: Critical question: Was PayTM informed about #Demonetization edict by PM? It's clearly fishy and requires full disclosure &amp;amp;…  </span></td><td>2016-11-23                                                                                                                                                                                    </td></tr>\n",
       "\t<tr><td>RT @Hemant_80: Did you vote on #Demonetization on Modi survey app?                                                                                </td><td>2016-11-23                                                                                                                                        </td></tr>\n",
       "\t<tr><td>RT @roshankar: Former FinSec, RBI Dy Governor, CBDT Chair + Harvard Professor lambaste #Demonetization.\r",
       "\r",
       "\r",
       "\r",
       "If not for Aam Aadmi, listen to th…</td><td>2016-11-23                                                                                                                                        </td></tr>\n",
       "\t<tr><td>RT @ANI_news: Gurugram (Haryana): Post office employees provide cash exchange to patients in hospitals #demonetization https://t.co/uGMxUP9…      </td><td>2016-11-23                                                                                                                                        </td></tr>\n",
       "\t<tr><td>RT @satishacharya: Reddy Wedding! @mail_today cartoon #demonetization #ReddyWedding https://t.co/u7gLNrq31F                                       </td><td>2016-11-23                                                                                                                                        </td></tr>\n",
       "</tbody>\n",
       "</table>\n"
      ],
      "text/latex": [
       "\\begin{tabular}{r|ll}\n",
       " text & created\\\\\n",
       "\\hline\n",
       "\t RT @rssurjewala: Critical question: Was PayTM informed about \\#Demonetization edict by PM? It's clearly fishy and requires full disclosure \\&amp;…   & 2016-11-23                                                                                                                                            \\\\\n",
       "\t RT @Hemant\\_80: Did you vote on \\#Demonetization on Modi survey app?                                                                                 & 2016-11-23                                                                                                                                            \\\\\n",
       "\t RT @roshankar: Former FinSec, RBI Dy Governor, CBDT Chair + Harvard Professor lambaste \\#Demonetization.\r",
       "\r",
       "\r",
       "\r",
       "If not for Aam Aadmi, listen to th… & 2016-11-23                                                                                                                                          \\\\\n",
       "\t RT @ANI\\_news: Gurugram (Haryana): Post office employees provide cash exchange to patients in hospitals \\#demonetization https://t.co/uGMxUP9…       & 2016-11-23                                                                                                                                            \\\\\n",
       "\t RT @satishacharya: Reddy Wedding! @mail\\_today cartoon \\#demonetization \\#ReddyWedding https://t.co/u7gLNrq31F                                        & 2016-11-23                                                                                                                                              \\\\\n",
       "\\end{tabular}\n"
      ],
      "text/markdown": [
       "\n",
       "text | created | \n",
       "|---|---|---|---|---|\n",
       "| RT @rssurjewala: Critical question: Was PayTM informed about #Demonetization edict by PM? It's clearly fishy and requires full disclosure &amp;…   | 2016-11-23                                                                                                                                         | \n",
       "| RT @Hemant_80: Did you vote on #Demonetization on Modi survey app?                                                                                 | 2016-11-23                                                                                                                                         | \n",
       "| RT @roshankar: Former FinSec, RBI Dy Governor, CBDT Chair + Harvard Professor lambaste #Demonetization.\r",
       "\r",
       "\r",
       "\r",
       "If not for Aam Aadmi, listen to th… | 2016-11-23                                                                                                                                         | \n",
       "| RT @ANI_news: Gurugram (Haryana): Post office employees provide cash exchange to patients in hospitals #demonetization https://t.co/uGMxUP9…       | 2016-11-23                                                                                                                                         | \n",
       "| RT @satishacharya: Reddy Wedding! @mail_today cartoon #demonetization #ReddyWedding https://t.co/u7gLNrq31F                                        | 2016-11-23                                                                                                                                         | \n",
       "\n",
       "\n"
      ],
      "text/plain": [
       "  text                                                                                                                                              \n",
       "1 RT @rssurjewala: Critical question: Was PayTM informed about #Demonetization edict by PM? It's clearly fishy and requires full disclosure &amp;…  \n",
       "2 RT @Hemant_80: Did you vote on #Demonetization on Modi survey app?                                                                                \n",
       "3 RT @roshankar: Former FinSec, RBI Dy Governor, CBDT Chair + Harvard Professor lambaste #Demonetization.\\r\\r\\r\\rIf not for Aam Aadmi, listen to th…\n",
       "4 RT @ANI_news: Gurugram (Haryana): Post office employees provide cash exchange to patients in hospitals #demonetization https://t.co/uGMxUP9…      \n",
       "5 RT @satishacharya: Reddy Wedding! @mail_today cartoon #demonetization #ReddyWedding https://t.co/u7gLNrq31F                                       \n",
       "  created   \n",
       "1 2016-11-23\n",
       "2 2016-11-23\n",
       "3 2016-11-23\n",
       "4 2016-11-23\n",
       "5 2016-11-23"
      ]
     },
     "metadata": {},
     "output_type": "display_data"
    }
   ],
   "source": [
    "# equivalent SQL query -> select text,created from tweet_collection LIMIT 5;\n",
    "tweet_collection$find(fields='{\"_id\":false,\"text\":true,\"created\":true}',limit=5)"
   ]
  },
  {
   "cell_type": "markdown",
   "metadata": {},
   "source": [
    "### I want to group the tweets as per day; aggregate in mongo (similar to groupby in sql) may help achieve that!"
   ]
  },
  {
   "cell_type": "markdown",
   "metadata": {},
   "source": [
    "#### Using monoglite helps process big amounts of data directly from the datastore, without the need to load it in a dataframe in R, which might slow down the process. Below, I process a query and direclty plot it, without storing it in a dataframe"
   ]
  },
  {
   "cell_type": "code",
   "execution_count": 24,
   "metadata": {
    "collapsed": false
   },
   "outputs": [
    {
     "data": {},
     "metadata": {},
     "output_type": "display_data"
    },
    {
     "data": {
      "image/png": "[encoded data removed]",
      "text/plain": [
       "plot without title"
      ]
     },
     "metadata": {},
     "output_type": "display_data"
    }
   ],
   "source": [
    "# equivalent to SQL query: select count(*) from tweet_collection group by created;\n",
    "\n",
    "tweet_collection$aggregate('[{\"$group\": {\"_id\": \"$created\",\"count\": {\"$sum\": 1}}}]')%>%\n",
    "ggplot(aes(x=`_id`,y=count))+geom_bar(stat=\"identity\",color='skyblue',fill='#b35900')+\n",
    "geom_text(aes(label = count), color = \"blue\")+coord_flip()+xlab(\"Date\")+ylab(\"Number of Tweets\")"
   ]
  },
  {
   "cell_type": "markdown",
   "metadata": {},
   "source": [
    "Now that I have tweets group by each day, I can perform sentiment analysis for each day and see how it changed over the days"
   ]
  },
  {
   "cell_type": "markdown",
   "metadata": {},
   "source": [
    "But before that, lets see what the top terms used in tweets were. We will generate a wordcloud to show the top 50 words.\n",
    "\n",
    "<br>\n",
    "\n",
    "Let us clean the text first"
   ]
  },
  {
   "cell_type": "code",
   "execution_count": 25,
   "metadata": {
    "collapsed": false
   },
   "outputs": [],
   "source": [
    "#getting the tweets from the mongo database into a dataframe and sorting them as per date using R's order() function\n",
    "tweets_dates <- tweet_collection$find(fields='{\"text\":true,\"created\":true}')\n",
    "tweets_dates<-tweets_dates[order(tweets_dates$created),]"
   ]
  },
  {
   "cell_type": "code",
   "execution_count": 26,
   "metadata": {
    "collapsed": false
   },
   "outputs": [
    {
     "data": {
      "text/html": [
       "<table>\n",
       "<thead><tr><th></th><th scope=col>_id</th><th scope=col>text</th><th scope=col>created</th></tr></thead>\n",
       "<tbody>\n",
       "\t<tr><th scope=row>5215</th><td>59e8dda1c553ce84b80a6792                                                                                                                                                                                                                                                                                                                                                                                                                                                       </td><td>RT @DrKumarVishwas: And the Oscar goes to \"\"Mr.&lt;U+092D&gt;&lt;U+093E&gt;&lt;U+0935&gt;&lt;U+0941&gt;&lt;U+0915&gt;\"\" &lt;ed&gt;&lt;U+00A0&gt;&lt;U+00BD&gt;&lt;ed&gt;&lt;U+00B8&gt;&lt;U+00A9&gt;&lt;ed&gt;&lt;U+00A0&gt;&lt;U+00BD&gt;&lt;ed&gt;&lt;U+00B8&gt;&lt;U+00A5&gt;&lt;ed&gt;&lt;U+00A0&gt;&lt;U+00BD&gt;&lt;ed&gt;&lt;U+00B8&gt;&lt;U+00A2&gt;&lt;ed&gt;&lt;U+00A0&gt;&lt;U+00BD&gt;&lt;ed&gt;&lt;U+00B8&gt;&lt;U+00AD&gt;#demonetization https://t.co/ObQrhlNSL6</td><td>2016-11-22                                                                                                                                                                                                                                                                                                                                                                                                                                                                     </td></tr>\n",
       "\t<tr><th scope=row>5216</th><td>59e8dda1c553ce84b80a6793                                                                                                                                                                                                                                                                         </td><td>RT @ippatel: Retaining all seats of LS and state in Byelection by BJP has proved the people's support on #DeMonetization. It should be abov…                                                                                                                                                     </td><td>2016-11-22                                                                                                                                                                                                                                                                                       </td></tr>\n",
       "\t<tr><th scope=row>5217</th><td>59e8dda1c553ce84b80a6794                                                                                                                                                                                                                                                                                                                                                                                                                                                       </td><td>RT @DrKumarVishwas: And the Oscar goes to \"\"Mr.&lt;U+092D&gt;&lt;U+093E&gt;&lt;U+0935&gt;&lt;U+0941&gt;&lt;U+0915&gt;\"\" &lt;ed&gt;&lt;U+00A0&gt;&lt;U+00BD&gt;&lt;ed&gt;&lt;U+00B8&gt;&lt;U+00A9&gt;&lt;ed&gt;&lt;U+00A0&gt;&lt;U+00BD&gt;&lt;ed&gt;&lt;U+00B8&gt;&lt;U+00A5&gt;&lt;ed&gt;&lt;U+00A0&gt;&lt;U+00BD&gt;&lt;ed&gt;&lt;U+00B8&gt;&lt;U+00A2&gt;&lt;ed&gt;&lt;U+00A0&gt;&lt;U+00BD&gt;&lt;ed&gt;&lt;U+00B8&gt;&lt;U+00AD&gt;#demonetization https://t.co/ObQrhlNSL6</td><td>2016-11-22                                                                                                                                                                                                                                                                                                                                                                                                                                                                     </td></tr>\n",
       "</tbody>\n",
       "</table>\n"
      ],
      "text/latex": [
       "\\begin{tabular}{r|lll}\n",
       "  & \\_id & text & created\\\\\n",
       "\\hline\n",
       "\t5215 & 59e8dda1c553ce84b80a6792                                                                                                                                                                                                                                                                            & RT @DrKumarVishwas: And the Oscar goes to \"\"Mr.<U+092D><U+093E><U+0935><U+0941><U+0915>\"\" <ed><U+00A0><U+00BD><ed><U+00B8><U+00A9><ed><U+00A0><U+00BD><ed><U+00B8><U+00A5><ed><U+00A0><U+00BD><ed><U+00B8><U+00A2><ed><U+00A0><U+00BD><ed><U+00B8><U+00AD>\\#demonetization https://t.co/ObQrhlNSL6 & 2016-11-22                                                                                                                                                                                                                                                                                         \\\\\n",
       "\t5216 & 59e8dda1c553ce84b80a6793                                                                                                                                                                                                                                                                            & RT @ippatel: Retaining all seats of LS and state in Byelection by BJP has proved the people's support on \\#DeMonetization. It should be abov…                                                                                                                                                      & 2016-11-22                                                                                                                                                                                                                                                                                         \\\\\n",
       "\t5217 & 59e8dda1c553ce84b80a6794                                                                                                                                                                                                                                                                            & RT @DrKumarVishwas: And the Oscar goes to \"\"Mr.<U+092D><U+093E><U+0935><U+0941><U+0915>\"\" <ed><U+00A0><U+00BD><ed><U+00B8><U+00A9><ed><U+00A0><U+00BD><ed><U+00B8><U+00A5><ed><U+00A0><U+00BD><ed><U+00B8><U+00A2><ed><U+00A0><U+00BD><ed><U+00B8><U+00AD>\\#demonetization https://t.co/ObQrhlNSL6 & 2016-11-22                                                                                                                                                                                                                                                                                         \\\\\n",
       "\\end{tabular}\n"
      ],
      "text/markdown": [
       "\n",
       "| <!--/--> | _id | text | created | \n",
       "|---|---|---|\n",
       "| 5215 | 59e8dda1c553ce84b80a6792                                                                                                                                                                                                                                                                          | RT @DrKumarVishwas: And the Oscar goes to \"\"Mr.<U+092D><U+093E><U+0935><U+0941><U+0915>\"\" <ed><U+00A0><U+00BD><ed><U+00B8><U+00A9><ed><U+00A0><U+00BD><ed><U+00B8><U+00A5><ed><U+00A0><U+00BD><ed><U+00B8><U+00A2><ed><U+00A0><U+00BD><ed><U+00B8><U+00AD>#demonetization https://t.co/ObQrhlNSL6 | 2016-11-22                                                                                                                                                                                                                                                                                        | \n",
       "| 5216 | 59e8dda1c553ce84b80a6793                                                                                                                                                                                                                                                                          | RT @ippatel: Retaining all seats of LS and state in Byelection by BJP has proved the people's support on #DeMonetization. It should be abov…                                                                                                                                                      | 2016-11-22                                                                                                                                                                                                                                                                                        | \n",
       "| 5217 | 59e8dda1c553ce84b80a6794                                                                                                                                                                                                                                                                          | RT @DrKumarVishwas: And the Oscar goes to \"\"Mr.<U+092D><U+093E><U+0935><U+0941><U+0915>\"\" <ed><U+00A0><U+00BD><ed><U+00B8><U+00A9><ed><U+00A0><U+00BD><ed><U+00B8><U+00A5><ed><U+00A0><U+00BD><ed><U+00B8><U+00A2><ed><U+00A0><U+00BD><ed><U+00B8><U+00AD>#demonetization https://t.co/ObQrhlNSL6 | 2016-11-22                                                                                                                                                                                                                                                                                        | \n",
       "\n",
       "\n"
      ],
      "text/plain": [
       "     _id                     \n",
       "5215 59e8dda1c553ce84b80a6792\n",
       "5216 59e8dda1c553ce84b80a6793\n",
       "5217 59e8dda1c553ce84b80a6794\n",
       "     text                                                                                                                                                                                                                                                                                             \n",
       "5215 RT @DrKumarVishwas: And the Oscar goes to \"\"Mr.<U+092D><U+093E><U+0935><U+0941><U+0915>\"\" <ed><U+00A0><U+00BD><ed><U+00B8><U+00A9><ed><U+00A0><U+00BD><ed><U+00B8><U+00A5><ed><U+00A0><U+00BD><ed><U+00B8><U+00A2><ed><U+00A0><U+00BD><ed><U+00B8><U+00AD>#demonetization https://t.co/ObQrhlNSL6\n",
       "5216 RT @ippatel: Retaining all seats of LS and state in Byelection by BJP has proved the people's support on #DeMonetization. It should be abov…                                                                                                                                                     \n",
       "5217 RT @DrKumarVishwas: And the Oscar goes to \"\"Mr.<U+092D><U+093E><U+0935><U+0941><U+0915>\"\" <ed><U+00A0><U+00BD><ed><U+00B8><U+00A9><ed><U+00A0><U+00BD><ed><U+00B8><U+00A5><ed><U+00A0><U+00BD><ed><U+00B8><U+00A2><ed><U+00A0><U+00BD><ed><U+00B8><U+00AD>#demonetization https://t.co/ObQrhlNSL6\n",
       "     created   \n",
       "5215 2016-11-22\n",
       "5216 2016-11-22\n",
       "5217 2016-11-22"
      ]
     },
     "metadata": {},
     "output_type": "display_data"
    }
   ],
   "source": [
    "head(tweets_dates,3)"
   ]
  },
  {
   "cell_type": "markdown",
   "metadata": {},
   "source": [
    "### Cleaning the text content of the tweets"
   ]
  },
  {
   "cell_type": "code",
   "execution_count": 27,
   "metadata": {
    "collapsed": false
   },
   "outputs": [
    {
     "name": "stderr",
     "output_type": "stream",
     "text": [
      "Loading required package: NLP\n",
      "\n",
      "Attaching package: ‘NLP’\n",
      "\n",
      "The following object is masked from ‘package:ggplot2’:\n",
      "\n",
      "    annotate\n",
      "\n"
     ]
    }
   ],
   "source": [
    "#required packages\n",
    "library('tm');"
   ]
  },
  {
   "cell_type": "code",
   "execution_count": 28,
   "metadata": {
    "collapsed": false
   },
   "outputs": [],
   "source": [
    "cleanText <- function(txt){\n",
    "    txt.tweets <- VCorpus(VectorSource(txt))\n",
    "    #lowercase\n",
    "    txt.tweets <- tm_map(txt.tweets, content_transformer(tolower))\n",
    "    # Remove numbers\n",
    "    txt.tweets <- tm_map(txt.tweets, removeNumbers)\n",
    "    #Remove english common words\n",
    "    txt.tweets <- tm_map(txt.tweets, removeWords, stopwords(\"english\"))\n",
    "    #Remove punctuations\n",
    "    txt.tweets <- tm_map(txt.tweets, removePunctuation)\n",
    "    #Remove whitespaces\n",
    "    txt.tweets<- tm_map(txt.tweets, stripWhitespace)\n",
    "    \n",
    "    #remove the word rt(retweet)\n",
    "    txt.tweets<- tm_map(txt.tweets,content_transformer(function(x){return (gsub(\"rt\",\"\",x))}))\n",
    "\n",
    "    \n",
    "    return(txt.tweets)\n",
    "}"
   ]
  },
  {
   "cell_type": "code",
   "execution_count": 29,
   "metadata": {
    "collapsed": false
   },
   "outputs": [
    {
     "data": {
      "text/plain": [
       "<<VCorpus>>\n",
       "Metadata:  corpus specific: 0, document level (indexed): 0\n",
       "Content:  documents: 6"
      ]
     },
     "metadata": {},
     "output_type": "display_data"
    }
   ],
   "source": [
    "tweet.txt_data <- cleanText(tweets_dates$text)\n",
    "head(tweet.txt_data)"
   ]
  },
  {
   "cell_type": "markdown",
   "metadata": {},
   "source": [
    "### Generate wordcloud"
   ]
  },
  {
   "cell_type": "code",
   "execution_count": 30,
   "metadata": {
    "collapsed": false
   },
   "outputs": [
    {
     "name": "stderr",
     "output_type": "stream",
     "text": [
      "Loading required package: RColorBrewer\n"
     ]
    }
   ],
   "source": [
    "library('wordcloud');"
   ]
  },
  {
   "cell_type": "code",
   "execution_count": null,
   "metadata": {
    "collapsed": false
   },
   "outputs": [],
   "source": [
    "#create a TermDocumentMatrix in order to generate the wordcloud\n",
    "dtm <- TermDocumentMatrix(tweet.txt_data)\n",
    "m <- as.matrix(dtm)\n",
    "d <- data.frame(as.table(m))\n",
    "head(d)"
   ]
  },
  {
   "cell_type": "code",
   "execution_count": null,
   "metadata": {
    "collapsed": false
   },
   "outputs": [],
   "source": [
    "#Generating a word cloud\n",
    "wordcloud(d$Terms,d$Freq,min.freq = 1,\n",
    "          max.words=50, col=terrain.colors(length(d$Terms), alpha=0.9))"
   ]
  },
  {
   "cell_type": "markdown",
   "metadata": {},
   "source": [
    "### Sentiment Analysis"
   ]
  },
  {
   "cell_type": "code",
   "execution_count": null,
   "metadata": {
    "collapsed": true
   },
   "outputs": [],
   "source": [
    "library(\"syuzhet\");"
   ]
  },
  {
   "cell_type": "code",
   "execution_count": null,
   "metadata": {
    "collapsed": true
   },
   "outputs": [],
   "source": [
    "sentiments <- get_sentiment(as.character(tweets_dates$text))"
   ]
  },
  {
   "cell_type": "code",
   "execution_count": null,
   "metadata": {
    "collapsed": false
   },
   "outputs": [],
   "source": [
    "tweets_dates$sentiments <- sentiments"
   ]
  },
  {
   "cell_type": "code",
   "execution_count": null,
   "metadata": {
    "collapsed": false
   },
   "outputs": [],
   "source": [
    "head(tweets_dates,2)"
   ]
  },
  {
   "cell_type": "code",
   "execution_count": null,
   "metadata": {
    "collapsed": true
   },
   "outputs": [],
   "source": [
    "tweet_sentiments = mongo(collection = \"tweets_sentiments\", db = \"Twit_Sentiment_Analysis\")"
   ]
  },
  {
   "cell_type": "code",
   "execution_count": null,
   "metadata": {
    "collapsed": false
   },
   "outputs": [],
   "source": [
    "tweet_sentiments$remove('{}')\n",
    "tweet_sentiments$insert(tweets_dates)"
   ]
  },
  {
   "cell_type": "code",
   "execution_count": null,
   "metadata": {
    "collapsed": false
   },
   "outputs": [],
   "source": [
    "tweet_sentiments$find('{\"created\":\"2017-04-19\"}','{\"sentiments\":true}',limit=5)"
   ]
  },
  {
   "cell_type": "code",
   "execution_count": null,
   "metadata": {
    "collapsed": false
   },
   "outputs": [],
   "source": [
    "#group by each day and calculate the avg sentiment of tweets that day\n",
    "tweet_sentiments$aggregate('[{\"$group\":{\"_id\":\"$created\",\"sentiments\":{\"$avg\":\"$sentiments\"}}}]')"
   ]
  },
  {
   "cell_type": "markdown",
   "metadata": {},
   "source": [
    "### Creating a Sentiment Analysis bar chart which displays the varying sentiments over the days during the demonetization phase"
   ]
  },
  {
   "cell_type": "code",
   "execution_count": null,
   "metadata": {
    "collapsed": false
   },
   "outputs": [],
   "source": [
    "tweet_sentiments$aggregate('[{\"$group\":{\"_id\":\"$created\",\"sentiments\":{\"$avg\":\"$sentiments\"}}}]')%>%\n",
    "ggplot(aes(x=`_id`,y=sentiments,fill=sentiments))+scale_fill_gradient(low = \"red\", high = \"green\")+\n",
    "geom_bar(stat=\"identity\")+coord_flip()+xlab(\"Date\")+ylab(\"Overall public Sentiment\")"
   ]
  },
  {
   "cell_type": "markdown",
   "metadata": {},
   "source": [
    "### Results and Discoveries"
   ]
  },
  {
   "cell_type": "markdown",
   "metadata": {},
   "source": [
    "<i>\n",
    "1. Initially when the decision was made in the month of november to stop the notes of 500 and 1000 in a very short amount of time, people were slightly happy or neutral. \n",
    "2.  On 11th April, as can be seen, there were a lot of hate tweets, this mostly summarizes the angst of people during that time, as people were facing a lot of inconvenience. \n",
    "3. However in the next few days, when people realized there were more pros to the decision than cons, they whole heartedly supported the decision, and hence a flurry of positive tweets followed in the next few days</i>"
   ]
  },
  {
   "cell_type": "markdown",
   "metadata": {},
   "source": [
    "### References\n",
    "<i>\n",
    "1. https://www.r-bloggers.com/\n",
    "2. https://www.kaggle.com/arathee2/demonetization-in-india-twitter-data/downloads/demonetization-tweets.csv\n",
    "3. https://github.com/jeroen/mongolite\n",
    "</i>"
   ]
  }
 ],
 "metadata": {
  "kernelspec": {
   "display_name": "R",
   "language": "R",
   "name": "ir"
  },
  "language_info": {
   "codemirror_mode": "r",
   "file_extension": ".r",
   "mimetype": "text/x-r-source",
   "name": "R",
   "pygments_lexer": "r",
   "version": "3.4.1"
  }
 },
 "nbformat": 4,
 "nbformat_minor": 2
}
